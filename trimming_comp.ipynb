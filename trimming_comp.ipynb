{
 "cells": [
  {
   "cell_type": "code",
   "execution_count": null,
   "metadata": {},
   "outputs": [],
   "source": [
    "import os\n",
    "import pandas as pd\n",
    "import csv\n",
    "import glob"
   ]
  },
  {
   "cell_type": "code",
   "execution_count": null,
   "metadata": {},
   "outputs": [],
   "source": [
    "trim_substring = \"*1_001.fastq.gz\"\n",
    "reference_file = \"../reference/ensemble/GRCh38\"\n",
    "align_substring = \"*_R1_pair.fastq.gz\""
   ]
  },
  {
   "cell_type": "code",
   "execution_count": null,
   "metadata": {},
   "outputs": [],
   "source": [
    "if not os.path.exists('./cutadapt_sam_output_cufflinks/'):\n",
    "    os.makedirs('./cutadapt_sam_output_cufflinks/')\n",
    "\n",
    "if not os.path.exists('./cutadapt_sam_output_cufflinks/align_logs/'):\n",
    "    os.makedirs('./cutadapt_sam_output_cufflinks/align_logs/')\n",
    "    \n",
    "if not os.path.exists('./cutadapt_trimmed/'):\n",
    "    os.makedirs('./cutadapt_trimmed/')\n",
    "\n",
    "if not os.path.exists('./cutadapt_trimmed/trim_logs/'):\n",
    "    os.makedirs('./cutadapt_trimmed/trim_logs/')"
   ]
  },
  {
   "cell_type": "code",
   "execution_count": null,
   "metadata": {},
   "outputs": [],
   "source": [
    "for filenames in glob.glob(substring):\n",
    "    filenames = filenames.split(\"1_001.fastq.gz\")[0]\n",
    "    print(filenames)\n",
    "    str1 = \"nohup cutadapt -j 6 -q 14 -m 15 --poly-a --pair-adapters -a AGATCGGAAGAGC -A NNNAGATCGGAAGAGC -u 3 -o ./cutadapt_trimmed/\"+filenames+\"1_pair.fastq.gz -p ./cutadapt_trimmed/\"+filenames+\"2_pair.fastq.gz \"+filenames+\"1_001.fastq.gz  \"+filenames+\"2_001.fastq.gz > ./cutadapt_trimmed/trim_logs/log_\"+filenames+\"_pair_trim.txt 2>&1 &\"\n",
    "    \n",
    "    print(str1+\"\\n\")\n",
    "    \n",
    "    os.system (str1)"
   ]
  },
  {
   "cell_type": "code",
   "execution_count": null,
   "metadata": {},
   "outputs": [],
   "source": [
    "for filenames in glob.glob(substring):\n",
    "    filenames = filenames.split(\"_R1_pair.fastq.gz\")[0]\n",
    "    print(filenames)\n",
    "    str1 = \"nohup hisat2 -p 6 -t --max-intronlen 500 --mp 3,2 --rdg 5,3 --rfg 5,3 --score-min L,0,-0.6 --dta -x \"+reference_file+\" -1 \"+filenames+\"_R1_pair.fastq.gz -2 \"+filenames+\"_R2_pair.fastq.gz -S ./cutadapt_sam_output_cufflinks/\"+filenames+\".sam > ./cutadapt_sam_output_cufflinks/align_logs/align_\"+filenames+\"_log.txt 2>&1 &\"\n",
    "    print(str1+\"\\n\")\n",
    "    os.system (str1)"
   ]
  },
  {
   "cell_type": "code",
   "execution_count": null,
   "metadata": {},
   "outputs": [],
   "source": []
  }
 ],
 "metadata": {
  "kernelspec": {
   "display_name": "rna-seq",
   "language": "python",
   "name": "python3"
  },
  "language_info": {
   "name": "python",
   "version": "3.10.13"
  }
 },
 "nbformat": 4,
 "nbformat_minor": 2
}
